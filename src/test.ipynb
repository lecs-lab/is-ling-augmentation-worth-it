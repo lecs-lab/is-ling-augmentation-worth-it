{
 "cells": [
  {
   "cell_type": "code",
   "execution_count": 1,
   "metadata": {
    "collapsed": true,
    "ExecuteTime": {
     "end_time": "2023-12-24T05:57:34.977019Z",
     "start_time": "2023-12-24T05:57:29.141537Z"
    }
   },
   "outputs": [
    {
     "data": {
      "text/plain": "Map:   0%|          | 0/7447 [00:00<?, ? examples/s]",
      "application/vnd.jupyter.widget-view+json": {
       "version_major": 2,
       "version_minor": 0,
       "model_id": "0c24f4e8e7214c6db51b2edf4968c052"
      }
     },
     "metadata": {},
     "output_type": "display_data"
    },
    {
     "data": {
      "text/plain": "Map:   0%|          | 0/1596 [00:00<?, ? examples/s]",
      "application/vnd.jupyter.widget-view+json": {
       "version_major": 2,
       "version_minor": 0,
       "model_id": "3221ef1195104a7caf5717abda87443b"
      }
     },
     "metadata": {},
     "output_type": "display_data"
    },
    {
     "data": {
      "text/plain": "Map:   0%|          | 0/1596 [00:00<?, ? examples/s]",
      "application/vnd.jupyter.widget-view+json": {
       "version_major": 2,
       "version_minor": 0,
       "model_id": "546a3b23803c4ac1a74bae93c0e8da3f"
      }
     },
     "metadata": {},
     "output_type": "display_data"
    },
    {
     "data": {
      "text/plain": "Map:   0%|          | 0/7447 [00:00<?, ? examples/s]",
      "application/vnd.jupyter.widget-view+json": {
       "version_major": 2,
       "version_minor": 0,
       "model_id": "463b9613d97c40e483f0b724d5276313"
      }
     },
     "metadata": {},
     "output_type": "display_data"
    },
    {
     "data": {
      "text/plain": "Map:   0%|          | 0/1596 [00:00<?, ? examples/s]",
      "application/vnd.jupyter.widget-view+json": {
       "version_major": 2,
       "version_minor": 0,
       "model_id": "3369e76227354e288a5a33b37dbe19ef"
      }
     },
     "metadata": {},
     "output_type": "display_data"
    },
    {
     "data": {
      "text/plain": "Map:   0%|          | 0/1596 [00:00<?, ? examples/s]",
      "application/vnd.jupyter.widget-view+json": {
       "version_major": 2,
       "version_minor": 0,
       "model_id": "a23d82220c6b47be826eef9113308aa5"
      }
     },
     "metadata": {},
     "output_type": "display_data"
    }
   ],
   "source": [
    "from datasets import load_dataset\n",
    "from transformers import XLMRobertaTokenizerFast\n",
    "from data_handling import create_vocab, split_line, prepare_dataset\n",
    "\n",
    "dataset = load_dataset('lecslab/usp-igt')\n",
    "def segment(row):\n",
    "    row[\"morphemes\"] = split_line(row[\"transcription\"], prefix=\"usp_\")\n",
    "    row[\"glosses\"] = split_line(row[\"glosses\"], prefix=None)\n",
    "    return row\n",
    "dataset = dataset.map(segment)\n",
    "train_vocab = create_vocab(dataset['train']['morphemes'], threshold=1)\n",
    "glosses = create_vocab(dataset['train']['glosses'], threshold=1, should_not_lower=True) + ['<unk>']\n",
    "tokenizer = XLMRobertaTokenizerFast.from_pretrained('xlm-roberta-base', model_max_length=64)\n",
    "tokenizer.add_tokens(train_vocab)\n",
    "dataset = prepare_dataset(dataset, tokenizer, glosses)"
   ]
  },
  {
   "cell_type": "code",
   "execution_count": 2,
   "outputs": [
    {
     "data": {
      "text/plain": "['',\n '<sep>',\n '???',\n 'A1P',\n 'A1S',\n 'A2P',\n 'A2S',\n 'ADV',\n 'AFE',\n 'AFI',\n 'AGT',\n 'AP',\n 'APLI',\n 'ART',\n 'Agua@blanca',\n 'Aj',\n 'Alvarez',\n 'Anatasio',\n 'Angelica',\n 'Atristeza',\n 'Beyaldama',\n 'CAU',\n 'CLAS',\n 'COM',\n 'COND',\n 'CONJ',\n 'Calam',\n 'Canis',\n 'Caracol',\n 'Carcha',\n 'Carmen',\n 'Catalina',\n 'Catarina',\n 'Chanuj',\n 'Chic',\n 'Chijam',\n 'Chimel',\n 'Chipaj',\n 'Coban',\n 'Cubi',\n 'DEM',\n 'DIM',\n 'DIR',\n 'Delgado',\n 'Diego',\n 'Dios',\n 'E1',\n 'E1P',\n 'E1S',\n 'E2',\n 'E2P',\n 'E2S',\n 'E3',\n 'E3P',\n 'E3S',\n 'ENF',\n 'EXS',\n 'Esposo',\n 'Estados',\n 'Francisco',\n 'GNT',\n 'Herrera',\n 'IMP',\n 'INC',\n 'INS',\n 'INT',\n 'ITR',\n 'ITS',\n 'Isidro',\n 'Juan',\n 'Juana',\n 'La@cebolla',\n 'Lester',\n 'Lina',\n 'Lucas',\n 'López',\n 'MED',\n 'MOV',\n 'Magdalena',\n 'Manuel',\n 'Marco@Tulio',\n 'Marimar',\n 'María',\n 'Mateo',\n 'Matías',\n 'Miguel',\n 'Miramar',\n 'Méndez',\n 'México',\n 'NEG',\n 'NUM',\n 'Oswaldo',\n 'PART',\n 'PAS',\n 'PL',\n 'PP',\n 'PREP',\n 'PRG',\n 'PRON',\n 'Pedro',\n 'Pinal',\n 'Pualo',\n 'Quiché',\n 'RFX',\n 'Renato',\n 'SAB',\n 'SC',\n 'SREL',\n 'SV',\n 'Sajbin',\n 'Salvador',\n 'San',\n 'Santa',\n 'Sergio',\n 'Sic',\n 'TAM',\n 'TRN',\n 'Tiu',\n 'Unidos',\n 'Uspanteko',\n 'Vicente',\n 'Yo',\n 'a',\n 'a@la@fuerza',\n 'a@nivel',\n 'a@según',\n 'a@veces',\n 'aah',\n 'abajo',\n 'abandonar',\n 'aberiguar',\n 'abono',\n 'abre',\n 'abrir',\n 'abuela',\n 'abuelo',\n 'abundar',\n 'aburrirse',\n 'acarrear',\n 'acaso',\n 'aceptar',\n 'acostumbrar',\n 'acostumbrarse',\n 'acurrucar',\n 'adelantar',\n 'adelantarse',\n 'adelante',\n 'adelgazar',\n 'además',\n 'adentro',\n 'admiración',\n 'adolorido',\n 'adorar',\n 'adormecer',\n 'adornar',\n 'afamar',\n 'afuera',\n 'agarrar',\n 'agotar',\n 'agradecer',\n 'agradecé',\n 'agua',\n 'agua@chiva',\n 'aguacero',\n 'aguantar',\n 'aguardien',\n 'ahaora',\n 'ahogarse',\n 'ahora',\n 'ahí',\n 'aire',\n 'al',\n 'al@final',\n 'al@otro@lado',\n 'alambre',\n 'alargado',\n 'alargar',\n 'alcalde',\n 'alcanzar',\n 'aldea',\n 'aldeas',\n 'alegar',\n 'alegrar',\n 'alegrarse',\n 'algo',\n 'algunos',\n 'aliento',\n 'alilviar',\n 'alimentar',\n 'alimento',\n 'alinear',\n 'aliviar',\n 'alla',\n 'alli',\n 'allá',\n 'allí',\n 'alma',\n 'almuerzo',\n 'amargo',\n 'amarrar',\n 'ambre',\n 'amojado',\n 'amontonado',\n 'amontonar',\n 'anda',\n 'animal',\n 'antes',\n 'antibiótico',\n 'antiguamente',\n 'antiguo',\n 'apagar',\n 'aparecer',\n 'aparejo',\n 'aparte',\n 'apaste',\n 'apenado',\n 'apenas',\n 'apestar',\n 'apio',\n 'aprejo',\n 'aprende',\n 'aprender',\n 'aprendé',\n 'aprobar',\n 'apuesta',\n 'apurrar',\n 'aqui',\n 'aqui@esta',\n 'aquí',\n 'aragan',\n 'araña',\n 'arena',\n 'arena@de@rio',\n 'arrastrar',\n 'arreglar',\n 'arriba',\n 'arrimerar',\n 'arrodillar',\n 'arrova',\n 'arrugar',\n 'asamblea',\n 'asercarse',\n 'asi',\n 'asi@como',\n 'asta',\n 'así@como',\n 'atajar',\n 'atol',\n 'aunque',\n 'aunque@sea',\n 'autoridad',\n 'autorizar',\n 'auxiliar',\n 'auxiliares',\n 'auxiliatura',\n 'avanzar',\n 'aver',\n 'avión',\n 'ay',\n 'ay@dios',\n 'ayer',\n 'ayi',\n 'ayote',\n 'ayudar',\n 'azadón',\n 'azotar',\n 'azucar',\n 'añadir',\n 'añadirlo',\n 'año',\n 'años',\n 'aún@que@sea',\n 'aúnque@sea',\n 'ba',\n 'baa',\n 'baile',\n 'bajar',\n 'bajarse',\n 'bajr',\n 'baldillo',\n 'barejón',\n 'barranco',\n 'barrer',\n 'bastón',\n 'basura',\n 'bay',\n 'baya',\n 'bañar',\n 'baño',\n 'bebida',\n 'bejuco',\n 'belleza',\n 'benad',\n 'bendecido',\n 'bendecir',\n 'bendición',\n 'bendicón',\n 'berro',\n 'beso',\n 'bestiada',\n 'bevida',\n 'bien',\n 'bigotes',\n 'bl',\n 'blanco',\n 'boca',\n 'bocado',\n 'bocio',\n 'bolita',\n 'bolo',\n 'bonito',\n 'bonitos',\n 'bos',\n 'botar',\n 'boxboles',\n 'bravo',\n 'brincar',\n 'brinco',\n 'brincos',\n 'brinda',\n 'brugeria',\n 'brugería',\n 'brujear',\n 'brujería',\n 'buela',\n 'buelo',\n 'buelta',\n 'buen',\n 'buenisimo',\n 'bueno',\n 'buenos',\n 'buscar',\n 'cabal',\n 'caballerías',\n 'caballo',\n 'cabalmente',\n 'cabeza',\n 'cabra',\n 'cada',\n 'caer',\n 'caerse',\n 'cafe',\n 'café',\n 'caja',\n 'cajón',\n 'calentar',\n 'calidad',\n 'caliente',\n 'calza@de@milpa',\n 'cama',\n 'cambi',\n 'cambiar',\n 'caminar',\n 'camino',\n 'camotes',\n 'campo',\n 'camposanto',\n 'canal',\n 'canasto',\n 'candela',\n 'candelas',\n 'cangrejo',\n 'cansacio',\n 'cansar',\n 'cantar',\n 'cantina',\n 'cantinear',\n 'capacidad',\n 'capricho',\n 'cara',\n 'carga',\n 'cargar',\n 'cargo',\n 'carimática',\n 'carne',\n 'carnero',\n 'caro',\n 'caro@de@precio',\n 'carreta',\n 'carretara',\n 'carretera',\n 'casa',\n 'casar',\n 'casarse',\n 'cascara',\n 'caserío',\n 'casi',\n 'castellano',\n 'castigar',\n 'castigo',\n 'cata',\n 'catarina',\n 'catorse',\n 'católica',\n 'cazar',\n 'caña',\n 'cebolla',\n 'cebolla@silvestre',\n 'cena',\n 'centavo',\n 'cera',\n 'cerca',\n 'cerdo',\n 'cerebro',\n 'cerrado',\n 'cerrar',\n 'cerro',\n 'chamarra',\n 'chibolaa',\n 'chicamán',\n 'chicle',\n 'chico',\n 'chicote',\n 'chicotre',\n 'chilacayote',\n 'chile',\n 'chillante',\n 'chimel',\n 'chipaj',\n 'chiquimula',\n 'chirimilla',\n 'chirivisco/barejón',\n 'chiste',\n 'chivos',\n 'chix',\n 'chixiquín',\n 'chocolate',\n 'chocoyo',\n 'chompipa',\n 'chompipe',\n 'chorro',\n 'chuchitos',\n 'chula',\n 'cien',\n 'ciento',\n 'cierre',\n 'cierto',\n 'cigarro',\n 'ciguamonta',\n 'cinco',\n 'cincuenta',\n 'clemencia',\n 'coban',\n 'cobrar',\n 'cocer',\n 'coche',\n 'cofre',\n 'cola',\n 'colar',\n 'colgar',\n 'collar',\n 'comadre',\n 'comadrona',\n 'comal',\n 'comapdre',\n 'combite',\n 'combrar',\n 'comenzar',\n 'comer',\n 'comerciante',\n 'comida',\n 'comió',\n 'como',\n 'compadre',\n 'compañero',\n 'compañía',\n 'compermiso',\n 'componer',\n 'componer/arreglar',\n 'comprar',\n 'compromiso',\n 'comunicar',\n 'comunidad',\n 'comvenir',\n 'comvite',\n 'con',\n 'con@eso',\n 'con@quien',\n 'con@él',\n 'concuña@de@mujer',\n 'concuño@de@mujer',\n 'condición',\n 'conejo',\n 'conforme',\n 'conocer',\n 'conocimienteo',\n 'conocimiento',\n 'conquista',\n 'consejar',\n 'consejo',\n 'construcción',\n 'construir',\n 'contaminar',\n 'contar',\n 'contento',\n 'contentos',\n 'controlar',\n 'convenser',\n 'convertir',\n 'convite',\n 'copa',\n 'copal',\n 'corazon',\n 'corazón',\n 'corral',\n 'correr',\n 'correrlo',\n 'corretear',\n 'cortar',\n 'corte',\n 'cortejar',\n 'cosa',\n 'cosas',\n 'cosatales',\n 'coser',\n 'costal',\n 'costmbre',\n 'costumbre',\n 'coyote',\n 'crecer',\n 'creer',\n 'creo',\n 'crujir',\n 'cruz',\n 'cualquier',\n 'cualquier@parte',\n 'cualquiera',\n 'cuando',\n 'cuanto',\n 'cuaresma',\n 'cuartas',\n 'cuartilla',\n 'cuartillo',\n 'cuatro',\n 'cuenta',\n 'cuerda',\n 'cueva',\n 'cuidado',\n 'cuidar',\n 'culebra',\n 'culix',\n 'culpa',\n 'culpable',\n 'cumplir',\n 'curar',\n 'cutiembre',\n 'cuándo',\n 'cuñado',\n 'cáscara',\n 'cólera',\n 'danta',\n 'dar',\n 'dar@vuelta',\n 'dar@vueltas',\n 'daño',\n 'ddecir',\n 'de',\n 'de@a',\n 'de@acuerdo',\n 'de@bajo',\n 'de@paso',\n 'de@repente',\n 'de@todas',\n 'de@todo',\n 'de@una@vez',\n 'dea',\n 'deacuerdo',\n 'dealtiro',\n 'debajo',\n 'deber',\n 'dec',\n 'dece',\n 'decir',\n 'defender',\n 'dejar',\n 'del',\n 'delicado',\n 'delito',\n 'demonio',\n 'dentro',\n 'dentro@de@un@rato',\n 'depacio',\n 'depaso',\n 'derecho',\n 'derepente',\n 'derrepente',\n 'desarmar',\n 'desatar',\n 'desayuno',\n 'descansar',\n 'desde',\n 'desear',\n 'deseo',\n 'deseperar',\n 'desocupado',\n 'desocupar',\n 'despaci',\n 'despacio',\n 'despejado',\n 'despertar',\n 'despreciar',\n 'despues',\n 'después',\n 'deuda',\n 'diablo',\n 'dice',\n 'dice@que',\n 'diciembre',\n 'dieciocho',\n 'diente',\n 'dientes',\n 'diez',\n 'diez@y@seis',\n 'difeernte',\n 'diferente',\n 'dijo',\n 'dinero',\n 'dios',\n 'disfrase',\n 'distinto',\n 'doblador(tuza)',\n 'doce',\n 'doler',\n 'dolor',\n 'domingo',\n 'don',\n 'donde',\n 'dondequiera',\n 'dormir',\n 'dos',\n 'doscientos',\n 'doña',\n 'drenaje',\n 'duda',\n 'dueño',\n 'dulce',\n 'duro',\n 'duro@fuerte',\n 'día',\n 'día@domingo',\n 'dónde',\n 'e',\n 'egoista',\n 'ejecutar@instrumentos',\n 'ejemplo',\n 'el',\n 'el/ella',\n 'elicoptero',\n 'ellos/ellas',\n 'elote',\n 'em',\n 'embolar',\n 'emborracharse',\n 'empezar',\n 'empujar',\n 'emtrar',\n 'en',\n 'en@el@cielo',\n 'en@vez@de',\n 'encambio',\n 'encontra',\n 'encontrar',\n 'enero',\n 'enferma',\n 'enfermedad',\n 'enfermo',\n 'enfin',\n 'enfrente@de',\n 'enjuagar',\n 'enloqueser',\n 'enojado',\n 'enojar',\n 'enojo',\n 'ensartar',\n 'ensayar',\n 'ensayo',\n 'enseñar',\n 'ensillar',\n 'enteresado',\n 'enterno',\n 'entero',\n 'enterrar',\n 'entonc',\n 'entonce',\n 'entonces',\n 'entr',\n 'entra',\n 'entrar',\n 'entrarr',\n 'entre@los@árboles',\n 'entregar',\n 'entrrar',\n 'envidioso',\n 'envolver',\n 'er',\n 'es',\n 'es@que',\n 'escapar',\n 'escaparse',\n 'escarbar',\n 'escoger',\n 'escojer',\n 'esconder',\n 'escribir',\n 'escrituras',\n 'escudilla',\n 'escuela',\n 'ese',\n 'eseñar',\n 'esforzar',\n 'esforzarse',\n 'esfuerzo',\n 'eso',\n 'eso@es',\n 'espalda',\n 'esperar',\n 'espina',\n 'esposa',\n 'esposo',\n 'espuma',\n 'espíritu',\n 'esque',\n 'esquina',\n 'esta',\n 'esta@bien',\n 'esta@ien',\n 'estan',\n 'estar',\n 'este',\n 'estimar',\n 'estirrar',\n 'esto',\n 'estomago',\n 'estoraque',\n 'estoy',\n 'estrecho',\n 'ests',\n 'estubo',\n 'estudiar',\n 'estudio',\n 'estuvo',\n 'estómago',\n 'evangélica',\n 'evitar',\n 'excremento',\n 'extranjero',\n 'extraviar',\n 'extrañar',\n 'falta',\n 'falta@de@respeto',\n 'familia',\n 'familiar',\n 'favor',\n 'ferente',\n 'feriado',\n 'fijate',\n 'fin',\n 'finada',\n 'finado',\n 'finado(a)',\n 'fino',\n 'flor',\n 'foliar',\n 'forma',\n 'formar',\n 'fortuna',\n 'foto',\n 'frente',\n 'frijil',\n 'frijol',\n 'frio',\n 'fríjol',\n 'fuego',\n 'fuerano',\n 'fuerte',\n 'fuerza',\n 'fulano',\n 'futbol',\n 'gacias',\n 'galan',\n 'gallina',\n 'gallina@ciega',\n 'gallinas',\n 'galán',\n 'gana',\n 'ganar',\n 'ganas',\n 'garaabto',\n 'garabato',\n 'gasto',\n 'gato',\n 'gato@de@monte',\n 'gente',\n 'gentes',\n 'geoba',\n 'girar',\n 'gobierno',\n 'golpear',\n 'goma',\n 'grabar',\n 'gracia',\n 'gracias',\n 'gran',\n 'grande',\n 'gringos',\n 'gritar',\n 'grnade',\n 'guacal',\n 'guadalupe',\n 'guardar',\n 'guatal',\n 'guayaba@ácida',\n 'gustar',\n 'güisquil',\n 'haber',\n 'habierto',\n 'hablar',\n 'hablarle',\n 'habra',\n 'habre',\n 'habrir',\n 'hace',\n 'hace@un@momento',\n 'haceer',\n 'hacen',\n 'hacendoso',\n 'haceptar',\n 'hacer',\n 'hacer@ollas',\n 'hacerlo',\n 'hacha',\n 'haciendo',\n 'hambre',\n 'hay',\n 'hechar',\n 'hecho',\n 'hediondo',\n 'helada',\n 'hermana',\n 'hermano',\n 'hermano@mayor',\n 'hervirse',\n 'hielo',\n 'hierba',\n 'hierba@buena',\n 'hija',\n 'hijo',\n 'hijo/hija',\n 'hijo@de@mujer',\n 'hincar',\n 'hinchar',\n 'historia',\n 'hizo',\n 'hoja',\n 'hombre',\n 'hongo',\n 'hongo(oreja@de@ardilla)',\n 'hongo@comestible',\n 'hora',\n 'hortaliza',\n 'hospital',\n 'huevo',\n 'huevos',\n 'híerba',\n 'i',\n 'idea',\n 'idioma',\n 'iglesia',\n 'igual',\n 'igual@a',\n 'ijole',\n 'impedido',\n 'incienso',\n 'información',\n 'intestino',\n 'invierno',\n 'invitar',\n 'ir',\n 'ira',\n 'jabon',\n 'jaguar',\n 'jalar',\n 'jamás',\n 'jarro',\n 'jateado',\n 'jiote',\n 'jodido',\n 'joven',\n 'joven/señorita',\n 'juan',\n 'juana',\n 'jucio',\n 'jueves',\n 'jugar',\n 'jugo',\n 'juguete',\n 'juicio',\n 'julio',\n 'juntar',\n 'jusgado',\n 'jute',\n 'jutes',\n 'juzgado',\n 'jwela',\n 'kompaadre',\n 'kompadre',\n 'la',\n 'la@gran',\n 'la@laguna',\n 'la@mitad',\n 'ladino',\n 'ladinos',\n 'lado',\n 'lados',\n 'ladrón',\n 'laguna',\n 'lagunita',\n 'lamer',\n 'las',\n 'lastima',\n 'lavado',\n 'lavar',\n 'lazo',\n 'leandro',\n 'leer',\n 'legal',\n 'legalmente',\n 'lejos',\n 'lengua',\n 'levantar',\n 'leña',\n 'leño',\n 'leños',\n 'león',\n 'libertad',\n 'libro',\n 'libros',\n 'licenciado',\n 'limitación',\n 'limpio',\n 'listo',\n 'litro',\n 'llama',\n 'llamar',\n 'llegar',\n 'llegar@allá',\n 'llenar',\n 'lleno',\n 'llevar',\n 'llorar',\n 'lluvia',\n 'lo',\n 'lo@mismo',\n 'lo@que',\n 'lodo',\n 'loman',\n 'lomenos',\n 'lomismo',\n 'loque',\n 'los',\n 'los/las',\n 'luchar',\n 'lugar',\n 'lugar@para@cuidar',\n 'lughar',\n 'luna',\n 'luz',\n 'lámina',\n 'láminas',\n 'lástima',\n 'machete',\n 'macho',\n 'madar',\n 'madres',\n 'madrugada',\n 'madurar',\n 'maestro',\n 'mal',\n 'mal@lor',\n 'mal@olor',\n 'mala',\n 'malanga',\n 'malcriado',\n 'maldecir',\n 'maldita',\n 'malo',\n 'malos',\n 'maltrar',\n 'maltratar',\n 'mamá',\n 'mandaado',\n 'mandado',\n 'mandar',\n 'mando',\n 'manera',\n 'mano',\n 'manojo',\n 'manos',\n 'manta',\n 'mantener',\n ...]"
     },
     "execution_count": 2,
     "metadata": {},
     "output_type": "execute_result"
    }
   ],
   "source": [
    "glosses"
   ],
   "metadata": {
    "collapsed": false,
    "ExecuteTime": {
     "end_time": "2023-12-24T05:57:37.219175Z",
     "start_time": "2023-12-24T05:57:37.204503Z"
    }
   }
  },
  {
   "cell_type": "code",
   "execution_count": 3,
   "outputs": [
    {
     "data": {
      "text/plain": "{'glottocode': 'uspa1245',\n 'metalang_glottocode': 'stan1288',\n 'is_segmented': 'yes',\n 'source': 'sigmorphon_st',\n 'type': 'canonical',\n 'ID': 'st_uspa1245_7539',\n 'transcription': \"pok ya j-qaaj t-k'oq wi' wi'jaal\",\n 'glosses': ['porque',\n  '<sep>',\n  'ya',\n  '<sep>',\n  'E3S',\n  'papá',\n  '<sep>',\n  'INC',\n  'anciedad',\n  '<sep>',\n  'EXS',\n  '<sep>',\n  'ambre'],\n 'translation': 'Por que ya su papá ya tiene hambre.',\n 'morphemes': ['usp_pok',\n  '<sep>',\n  'usp_ya',\n  '<sep>',\n  'usp_j',\n  'usp_qaaj',\n  '<sep>',\n  'usp_t',\n  \"usp_k'oq\",\n  '<sep>',\n  \"usp_wi'\",\n  '<sep>',\n  \"usp_wi'jaal\"],\n 'input_ids': [0,\n  252084,\n  250002,\n  252954,\n  250002,\n  251021,\n  252214,\n  250002,\n  252474,\n  251148,\n  36,\n  864,\n  250002,\n  252830,\n  250002,\n  252831,\n  2],\n 'attention_mask': [1, 1, 1, 1, 1, 1, 1, 1, 1, 1, 1, 1, 1, 1, 1, 1, 1],\n 'labels': [-100,\n  1271,\n  1,\n  1637,\n  1,\n  54,\n  1171,\n  1,\n  63,\n  1657,\n  -100,\n  -100,\n  1,\n  56,\n  1,\n  200,\n  -100]}"
     },
     "execution_count": 3,
     "metadata": {},
     "output_type": "execute_result"
    }
   ],
   "source": [
    "dataset['valid'][0]"
   ],
   "metadata": {
    "collapsed": false,
    "ExecuteTime": {
     "end_time": "2023-12-24T05:58:12.673586Z",
     "start_time": "2023-12-24T05:58:12.638482Z"
    }
   }
  },
  {
   "cell_type": "code",
   "execution_count": null,
   "outputs": [],
   "source": [],
   "metadata": {
    "collapsed": false
   }
  }
 ],
 "metadata": {
  "kernelspec": {
   "display_name": "Python 3",
   "language": "python",
   "name": "python3"
  },
  "language_info": {
   "codemirror_mode": {
    "name": "ipython",
    "version": 2
   },
   "file_extension": ".py",
   "mimetype": "text/x-python",
   "name": "python",
   "nbconvert_exporter": "python",
   "pygments_lexer": "ipython2",
   "version": "2.7.6"
  }
 },
 "nbformat": 4,
 "nbformat_minor": 0
}
